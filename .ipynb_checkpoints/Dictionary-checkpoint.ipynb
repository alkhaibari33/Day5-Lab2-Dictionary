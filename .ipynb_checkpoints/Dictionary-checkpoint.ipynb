{
 "cells": [
  {
   "cell_type": "code",
   "execution_count": null,
   "id": "715e1962",
   "metadata": {},
   "outputs": [
    {
     "name": "stdout",
     "output_type": "stream",
     "text": [
      "Enter  numbers:\n"
     ]
    }
   ],
   "source": [
    "def phone_book():\n",
    "\n",
    "    print (\"Enter  numbers:\")\n",
    "    gu_number = input()\n",
    "\n",
    "    numbers = {\"Amal\": 1111111111, \"Mohammed\": 2222222222, \"Khadijah\": 3333333333, \"Abdullah\": 4444444444, \"Rawan\":5555555555, \"Faisal\": 6666666666, \"Layla\": 7777777777}\n",
    "\n",
    "    for x in numbers.items():\n",
    "        if gu_number == x.value():\n",
    "            print(key)\n",
    "            return\n",
    "        #return \"This is invalid number\"\n",
    "\n",
    "    print(\"Sorry, the number is not found\")\n",
    "phone_book()\n"
   ]
  },
  {
   "cell_type": "code",
   "execution_count": null,
   "id": "adf26d29",
   "metadata": {},
   "outputs": [],
   "source": []
  }
 ],
 "metadata": {
  "kernelspec": {
   "display_name": "Python 3 (ipykernel)",
   "language": "python",
   "name": "python3"
  },
  "language_info": {
   "codemirror_mode": {
    "name": "ipython",
    "version": 3
   },
   "file_extension": ".py",
   "mimetype": "text/x-python",
   "name": "python",
   "nbconvert_exporter": "python",
   "pygments_lexer": "ipython3",
   "version": "3.9.12"
  }
 },
 "nbformat": 4,
 "nbformat_minor": 5
}
